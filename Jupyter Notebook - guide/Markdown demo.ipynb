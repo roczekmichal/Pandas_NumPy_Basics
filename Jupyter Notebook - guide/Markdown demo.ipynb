{
 "cells": [
  {
   "cell_type": "markdown",
   "metadata": {},
   "source": [
    "# Important Modules in Data Analysis with Python\n",
    "\n",
    "## Pandas\n",
    "pandas is a software library written for the Python programming language for data manipulation and analysis. In particular, it offers data structures and operations for manipulating numerical tables and time series. It is free software released under the three-clause BSD license.\n",
    "\n",
    "*open source* **open source** \n",
    "\n",
    "_open source_ __open source__\n",
    "\n",
    "## NumPy\n",
    "![Logo_Pandas](data:image/png;base64,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)\n",
    "\n",
    "- something \n",
    "- other something\n",
    "\n",
    "1. numerical something\n",
    "\n",
    "<!--     command+/ to comment     for i in range(10):\n",
    "                                        print(i) -->\n",
    "\n",
    "2\\*2\n",
    "\n",
    "[More details](https://numpy.org/doc/stable/contents.html)"
   ]
  },
  {
   "cell_type": "code",
   "execution_count": null,
   "metadata": {},
   "outputs": [],
   "source": []
  }
 ],
 "metadata": {
  "kernelspec": {
   "display_name": "Python 3",
   "language": "python",
   "name": "python3"
  },
  "language_info": {
   "codemirror_mode": {
    "name": "ipython",
    "version": 3
   },
   "file_extension": ".py",
   "mimetype": "text/x-python",
   "name": "python",
   "nbconvert_exporter": "python",
   "pygments_lexer": "ipython3",
   "version": "3.8.5"
  }
 },
 "nbformat": 4,
 "nbformat_minor": 4
}
