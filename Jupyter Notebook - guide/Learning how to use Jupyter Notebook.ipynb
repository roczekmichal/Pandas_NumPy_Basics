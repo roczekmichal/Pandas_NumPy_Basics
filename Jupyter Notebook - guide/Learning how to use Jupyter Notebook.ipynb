{
 "cells": [
  {
   "cell_type": "markdown",
   "metadata": {},
   "source": [
    "# Learning how to use Jupyter notebook"
   ]
  },
  {
   "cell_type": "code",
   "execution_count": null,
   "metadata": {},
   "outputs": [],
   "source": [
    "print(\"Witaj !\")"
   ]
  },
  {
   "cell_type": "code",
   "execution_count": null,
   "metadata": {},
   "outputs": [],
   "source": [
    "print(\"Hello !\")"
   ]
  },
  {
   "cell_type": "code",
   "execution_count": 2,
   "metadata": {},
   "outputs": [],
   "source": [
    "a=5"
   ]
  },
  {
   "cell_type": "code",
   "execution_count": 3,
   "metadata": {},
   "outputs": [
    {
     "name": "stdout",
     "output_type": "stream",
     "text": [
      "5\n"
     ]
    }
   ],
   "source": [
    "print(a)"
   ]
  },
  {
   "cell_type": "code",
   "execution_count": null,
   "metadata": {},
   "outputs": [],
   "source": [
    "for i in range (10):\n",
    "    print(i)"
   ]
  },
  {
   "cell_type": "markdown",
   "metadata": {},
   "source": [
    "to split on insert line to two or more I have to be in the place where code should be splited then press control + shift + minus (border has to be green)\n",
    "\n",
    "l - number of line or shift + l to number lines in all inserts\n",
    "\n",
    "o - to hide and show outputs \n",
    "\n",
    "a - above b - below to add insert\n",
    "\n",
    "dd - to delete insert\n",
    "\n",
    "shift + j or k to select inserts\n",
    "\n",
    "shift + m - to merge them\n",
    "\n",
    "y - code\n",
    "\n",
    "m - like message/comment\n",
    "\n",
    "command + shift + f - finding shortcuts\n",
    "\n",
    "esc + help - keyboard shortcut !!! (usefull)"
   ]
  }
 ],
 "metadata": {
  "kernelspec": {
   "display_name": "Python 3",
   "language": "python",
   "name": "python3"
  },
  "language_info": {
   "codemirror_mode": {
    "name": "ipython",
    "version": 3
   },
   "file_extension": ".py",
   "mimetype": "text/x-python",
   "name": "python",
   "nbconvert_exporter": "python",
   "pygments_lexer": "ipython3",
   "version": "3.8.5"
  }
 },
 "nbformat": 4,
 "nbformat_minor": 4
}
