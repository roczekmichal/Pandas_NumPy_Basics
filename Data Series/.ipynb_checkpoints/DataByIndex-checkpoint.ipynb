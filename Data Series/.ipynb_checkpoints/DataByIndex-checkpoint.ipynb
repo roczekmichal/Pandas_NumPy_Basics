{
 "cells": [
  {
   "cell_type": "code",
   "execution_count": 1,
   "metadata": {},
   "outputs": [],
   "source": [
    "import pandas as pd"
   ]
  },
  {
   "cell_type": "code",
   "execution_count": 2,
   "metadata": {},
   "outputs": [],
   "source": [
    "surveys = pd.read_csv(\"/Users/michalroczek/Desktop/course-files/StackOverflowDeveloperSurvey.csv\", usecols=[\"CompanySize\"], squeeze=True).dropna()"
   ]
  },
  {
   "cell_type": "code",
   "execution_count": 3,
   "metadata": {},
   "outputs": [
    {
     "data": {
      "text/plain": [
       "1           20 to 99 employees\n",
       "2     10,000 or more employees\n",
       "3     10,000 or more employees\n",
       "4           10 to 19 employees\n",
       "6           20 to 99 employees\n",
       "7      Fewer than 10 employees\n",
       "8     5,000 to 9,999 employees\n",
       "10        100 to 499 employees\n",
       "11        100 to 499 employees\n",
       "13     Fewer than 10 employees\n",
       "Name: CompanySize, dtype: object"
      ]
     },
     "execution_count": 3,
     "metadata": {},
     "output_type": "execute_result"
    }
   ],
   "source": [
    "surveys.head(10)"
   ]
  },
  {
   "cell_type": "code",
   "execution_count": 4,
   "metadata": {},
   "outputs": [
    {
     "data": {
      "text/plain": [
       "'10,000 or more employees'"
      ]
     },
     "execution_count": 4,
     "metadata": {},
     "output_type": "execute_result"
    }
   ],
   "source": [
    "surveys[3]"
   ]
  },
  {
   "cell_type": "code",
   "execution_count": 5,
   "metadata": {},
   "outputs": [
    {
     "data": {
      "text/plain": [
       "1           20 to 99 employees\n",
       "2     10,000 or more employees\n",
       "3     10,000 or more employees\n",
       "4           10 to 19 employees\n",
       "6           20 to 99 employees\n",
       "7      Fewer than 10 employees\n",
       "8     5,000 to 9,999 employees\n",
       "10        100 to 499 employees\n",
       "11        100 to 499 employees\n",
       "13     Fewer than 10 employees\n",
       "Name: CompanySize, dtype: object"
      ]
     },
     "execution_count": 5,
     "metadata": {},
     "output_type": "execute_result"
    }
   ],
   "source": [
    "surveys[0:10]"
   ]
  },
  {
   "cell_type": "code",
   "execution_count": 6,
   "metadata": {},
   "outputs": [
    {
     "data": {
      "text/plain": [
       "'Fewer than 10 employees'"
      ]
     },
     "execution_count": 6,
     "metadata": {},
     "output_type": "execute_result"
    }
   ],
   "source": [
    "surveys[1235]"
   ]
  },
  {
   "cell_type": "raw",
   "metadata": {},
   "source": [
    "surveys[12339:12350]"
   ]
  },
  {
   "cell_type": "code",
   "execution_count": 8,
   "metadata": {},
   "outputs": [],
   "source": [
    "surveys.sort_values(inplace=True)"
   ]
  },
  {
   "cell_type": "code",
   "execution_count": 10,
   "metadata": {},
   "outputs": [
    {
     "data": {
      "text/plain": [
       "'10,000 or more employees'"
      ]
     },
     "execution_count": 10,
     "metadata": {},
     "output_type": "execute_result"
    }
   ],
   "source": [
    "surveys[3]"
   ]
  },
  {
   "cell_type": "code",
   "execution_count": 12,
   "metadata": {},
   "outputs": [
    {
     "data": {
      "text/plain": [
       "21923    1,000 to 4,999 employees\n",
       "36683    1,000 to 4,999 employees\n",
       "43105    1,000 to 4,999 employees\n",
       "43102    1,000 to 4,999 employees\n",
       "30582    1,000 to 4,999 employees\n",
       "43072    1,000 to 4,999 employees\n",
       "43063    1,000 to 4,999 employees\n",
       "23955    1,000 to 4,999 employees\n",
       "43060    1,000 to 4,999 employees\n",
       "43056    1,000 to 4,999 employees\n",
       "30558    1,000 to 4,999 employees\n",
       "Name: CompanySize, dtype: object"
      ]
     },
     "execution_count": 12,
     "metadata": {},
     "output_type": "execute_result"
    }
   ],
   "source": [
    "surveys[0:11]"
   ]
  },
  {
   "cell_type": "code",
   "execution_count": 13,
   "metadata": {},
   "outputs": [],
   "source": [
    "surveys.reset_index(drop=True,inplace=True)"
   ]
  },
  {
   "cell_type": "code",
   "execution_count": 14,
   "metadata": {},
   "outputs": [
    {
     "data": {
      "text/plain": [
       "'1,000 to 4,999 employees'"
      ]
     },
     "execution_count": 14,
     "metadata": {},
     "output_type": "execute_result"
    }
   ],
   "source": [
    "surveys[3]"
   ]
  },
  {
   "cell_type": "code",
   "execution_count": 15,
   "metadata": {},
   "outputs": [
    {
     "data": {
      "text/plain": [
       "1     1,000 to 4,999 employees\n",
       "2     1,000 to 4,999 employees\n",
       "3     1,000 to 4,999 employees\n",
       "4     1,000 to 4,999 employees\n",
       "5     1,000 to 4,999 employees\n",
       "6     1,000 to 4,999 employees\n",
       "7     1,000 to 4,999 employees\n",
       "8     1,000 to 4,999 employees\n",
       "9     1,000 to 4,999 employees\n",
       "10    1,000 to 4,999 employees\n",
       "Name: CompanySize, dtype: object"
      ]
     },
     "execution_count": 15,
     "metadata": {},
     "output_type": "execute_result"
    }
   ],
   "source": [
    "surveys[1:11]"
   ]
  }
 ],
 "metadata": {
  "kernelspec": {
   "display_name": "Python 3",
   "language": "python",
   "name": "python3"
  },
  "language_info": {
   "codemirror_mode": {
    "name": "ipython",
    "version": 3
   },
   "file_extension": ".py",
   "mimetype": "text/x-python",
   "name": "python",
   "nbconvert_exporter": "python",
   "pygments_lexer": "ipython3",
   "version": "3.8.5"
  }
 },
 "nbformat": 4,
 "nbformat_minor": 4
}
