{
 "cells": [
  {
   "cell_type": "code",
   "execution_count": 26,
   "metadata": {},
   "outputs": [],
   "source": [
    "import math\n",
    "import pandas as pd\n",
    "import numpy as np\n",
    "import matplotlib.pyplot as plt"
   ]
  },
  {
   "cell_type": "code",
   "execution_count": 7,
   "metadata": {},
   "outputs": [
    {
     "data": {
      "text/plain": [
       "2     113750.0\n",
       "14    100000.0\n",
       "17    130000.0\n",
       "18     82500.0\n",
       "22    100764.0\n",
       "Name: Salary, dtype: float64"
      ]
     },
     "execution_count": 7,
     "metadata": {},
     "output_type": "execute_result"
    }
   ],
   "source": [
    "salary = pd.read_csv(\"/Users/michalroczek/Desktop/course-files/StackOverflowDeveloperSurvey.csv\", usecols=[\"Salary\"], skip_blank_lines=True,squeeze=True).dropna()\n",
    "salary.head()"
   ]
  },
  {
   "cell_type": "code",
   "execution_count": 12,
   "metadata": {},
   "outputs": [
    {
     "data": {
      "text/plain": [
       "31600    197000.0\n",
       "27943    195000.0\n",
       "6743     195000.0\n",
       "41398    195000.0\n",
       "1696     195000.0\n",
       "Name: Salary, dtype: float64"
      ]
     },
     "execution_count": 12,
     "metadata": {},
     "output_type": "execute_result"
    }
   ],
   "source": [
    "##Sorting from highest to lowest salary\n",
    "\n",
    "salary.sort_values(ascending=False).head()"
   ]
  },
  {
   "cell_type": "code",
   "execution_count": 13,
   "metadata": {},
   "outputs": [
    {
     "data": {
      "text/plain": [
       "51144    0.0\n",
       "23953    0.0\n",
       "23907    0.0\n",
       "44841    0.0\n",
       "2951     0.0\n",
       "Name: Salary, dtype: float64"
      ]
     },
     "execution_count": 13,
     "metadata": {},
     "output_type": "execute_result"
    }
   ],
   "source": [
    "##Sorting from lowest to highest salary\n",
    "\n",
    "salary.sort_values().head()"
   ]
  },
  {
   "cell_type": "code",
   "execution_count": 14,
   "metadata": {},
   "outputs": [
    {
     "data": {
      "text/plain": [
       "2     113750.0\n",
       "14    100000.0\n",
       "17    130000.0\n",
       "18     82500.0\n",
       "22    100764.0\n",
       "Name: Salary, dtype: float64"
      ]
     },
     "execution_count": 14,
     "metadata": {},
     "output_type": "execute_result"
    }
   ],
   "source": [
    "salary.head()"
   ]
  },
  {
   "cell_type": "code",
   "execution_count": 16,
   "metadata": {},
   "outputs": [
    {
     "data": {
      "text/plain": [
       "51144    0.0\n",
       "23953    0.0\n",
       "23907    0.0\n",
       "44841    0.0\n",
       "2951     0.0\n",
       "Name: Salary, dtype: float64"
      ]
     },
     "execution_count": 16,
     "metadata": {},
     "output_type": "execute_result"
    }
   ],
   "source": [
    "##Changing values in object to be sorted from lowest to highest\n",
    "salary.sort_values(inplace=True)\n",
    "\n",
    "salary.head()"
   ]
  },
  {
   "cell_type": "code",
   "execution_count": 18,
   "metadata": {},
   "outputs": [
    {
     "data": {
      "text/plain": [
       "31600    197000.0\n",
       "27943    195000.0\n",
       "6743     195000.0\n",
       "41398    195000.0\n",
       "1696     195000.0\n",
       "Name: Salary, dtype: float64"
      ]
     },
     "execution_count": 18,
     "metadata": {},
     "output_type": "execute_result"
    }
   ],
   "source": [
    "##Changing values in object to be sorted from highest to lowest\n",
    "salary.sort_values(inplace=True, ascending=False)\n",
    "\n",
    "salary.head()"
   ]
  },
  {
   "cell_type": "code",
   "execution_count": 20,
   "metadata": {},
   "outputs": [
    {
     "data": {
      "text/plain": [
       "51390     40000.000000\n",
       "51387     58000.000000\n",
       "51382     32258.064516\n",
       "51378    107526.881720\n",
       "51371     74193.548387\n",
       "Name: Salary, dtype: float64"
      ]
     },
     "execution_count": 20,
     "metadata": {},
     "output_type": "execute_result"
    }
   ],
   "source": [
    "salary.sort_index(ascending=False).head()"
   ]
  },
  {
   "cell_type": "code",
   "execution_count": 22,
   "metadata": {},
   "outputs": [],
   "source": [
    "##maxSalary is variable saving 100 highest Salaries \n",
    "maxSalary = salary.sort_values(ascending=False).head(100)"
   ]
  },
  {
   "cell_type": "code",
   "execution_count": 24,
   "metadata": {},
   "outputs": [],
   "source": [
    "##minSalary is variable saving 100 lowest Salaries\n",
    "minSalary = salary.sort_values().head(100)"
   ]
  },
  {
   "cell_type": "code",
   "execution_count": 32,
   "metadata": {},
   "outputs": [
    {
     "data": {
      "text/plain": [
       "180198.1"
      ]
     },
     "execution_count": 32,
     "metadata": {},
     "output_type": "execute_result"
    }
   ],
   "source": [
    "##Rounded mean of max Salaries\n",
    "round(maxSalary.mean(),2)"
   ]
  },
  {
   "cell_type": "code",
   "execution_count": 33,
   "metadata": {},
   "outputs": [
    {
     "data": {
      "text/plain": [
       "67.08"
      ]
     },
     "execution_count": 33,
     "metadata": {},
     "output_type": "execute_result"
    }
   ],
   "source": [
    "##Rounded mean of min Salaries\n",
    "round(minSalary.mean(),2)"
   ]
  }
 ],
 "metadata": {
  "kernelspec": {
   "display_name": "Python 3",
   "language": "python",
   "name": "python3"
  },
  "language_info": {
   "codemirror_mode": {
    "name": "ipython",
    "version": 3
   },
   "file_extension": ".py",
   "mimetype": "text/x-python",
   "name": "python",
   "nbconvert_exporter": "python",
   "pygments_lexer": "ipython3",
   "version": "3.8.5"
  }
 },
 "nbformat": 4,
 "nbformat_minor": 4
}
