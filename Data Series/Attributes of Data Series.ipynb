{
 "cells": [
  {
   "cell_type": "code",
   "execution_count": 1,
   "metadata": {},
   "outputs": [],
   "source": [
    "import pandas as pd\n",
    "import random as rnd\n",
    "import math as math\n",
    "import numpy as np\n",
    "import matplotlib.pyplot as plt"
   ]
  },
  {
   "cell_type": "code",
   "execution_count": 19,
   "metadata": {},
   "outputs": [],
   "source": [
    "dataAsFloatList = []\n",
    "\n",
    "for i in range (100):\n",
    "    dataAsFloatList.append(i*rnd.random())\n",
    "    \n",
    "dataAsFloatSeries = pd.Series(dataAsFloatList)"
   ]
  },
  {
   "cell_type": "code",
   "execution_count": 20,
   "metadata": {
    "collapsed": true
   },
   "outputs": [
    {
     "name": "stdout",
     "output_type": "stream",
     "text": [
      "size: \t 100\n",
      "nbytes:\t 800\n",
      "shape:\t (100,)\n",
      "axes:\t [RangeIndex(start=0, stop=100, step=1)]\n",
      "dtype:\t float64\n",
      "index:\t RangeIndex(start=0, stop=100, step=1)\n",
      "unique:\t True\n",
      "monotonic:\t False\n"
     ]
    }
   ],
   "source": [
    "print('size: \\t',dataAsFloatSeries.size)\n",
    "print('nbytes:\\t',dataAsFloatSeries.nbytes)\n",
    "print('shape:\\t',dataAsFloatSeries.shape)\n",
    "print('axes:\\t',dataAsFloatSeries.axes)\n",
    "print('dtype:\\t',dataAsFloatSeries.dtype)\n",
    "print('index:\\t',dataAsFloatSeries.index)\n",
    "print('unique:\\t',dataAsFloatSeries.is_unique)\n",
    "print('monotonic:\\t',dataAsFloatSeries.is_monotonic)"
   ]
  },
  {
   "cell_type": "code",
   "execution_count": 21,
   "metadata": {
    "collapsed": true
   },
   "outputs": [
    {
     "data": {
      "text/plain": [
       "928"
      ]
     },
     "execution_count": 21,
     "metadata": {},
     "output_type": "execute_result"
    }
   ],
   "source": [
    "dataAsFloatSeries.memory_usage(deep=True)"
   ]
  },
  {
   "cell_type": "code",
   "execution_count": null,
   "metadata": {},
   "outputs": [],
   "source": [
    "\n",
    "dataAsStringList = []\n",
    "for i in range(10):\n",
    "dataAsStringList.append(str(i*rnd.random()))\n",
    "dataAsStringSeries = pd.Series(dataAsStringList)\n",
    "dataA"
   ]
  }
 ],
 "metadata": {
  "kernelspec": {
   "display_name": "Python 3",
   "language": "python",
   "name": "python3"
  },
  "language_info": {
   "codemirror_mode": {
    "name": "ipython",
    "version": 3
   },
   "file_extension": ".py",
   "mimetype": "text/x-python",
   "name": "python",
   "nbconvert_exporter": "python",
   "pygments_lexer": "ipython3",
   "version": "3.8.5"
  }
 },
 "nbformat": 4,
 "nbformat_minor": 4
}
