{
 "cells": [
  {
   "cell_type": "code",
   "execution_count": 1,
   "metadata": {},
   "outputs": [],
   "source": [
    "import numpy as np\n",
    "import pandas as pd\n",
    "import matplotlib.pyplot as plt\n",
    "import math as math"
   ]
  },
  {
   "cell_type": "code",
   "execution_count": 5,
   "metadata": {},
   "outputs": [],
   "source": [
    "weekdays = ['monday','tuesday','wendesday','thursday','friday','saturday','sunday']"
   ]
  },
  {
   "cell_type": "code",
   "execution_count": 6,
   "metadata": {},
   "outputs": [
    {
     "data": {
      "text/plain": [
       "0       monday\n",
       "1      tuesday\n",
       "2    wendesday\n",
       "3     thursday\n",
       "4       friday\n",
       "5     saturday\n",
       "6       sunday\n",
       "dtype: object"
      ]
     },
     "execution_count": 6,
     "metadata": {},
     "output_type": "execute_result"
    }
   ],
   "source": [
    "weeksdaySeries = pd.Series(weekdays)\n",
    "weeksdaySeries"
   ]
  },
  {
   "cell_type": "code",
   "execution_count": 9,
   "metadata": {},
   "outputs": [
    {
     "data": {
      "text/plain": [
       "monday       False\n",
       "tuesday      False\n",
       "wendesday    False\n",
       "thursday     False\n",
       "friday       False\n",
       "saturday      True\n",
       "sunday        True\n",
       "dtype: bool"
      ]
     },
     "execution_count": 9,
     "metadata": {},
     "output_type": "execute_result"
    }
   ],
   "source": [
    "freeDays = {\n",
    "    'monday' : False,\n",
    "    'tuesday' : False,\n",
    "    'wendesday' : False,\n",
    "    'thursday' : False,\n",
    "    'friday' : False,\n",
    "    'saturday' : True,\n",
    "    'sunday' : True\n",
    "}\n",
    "\n",
    "freeDaysSeries = pd.Series(freeDays)\n",
    "freeDaysSeries"
   ]
  },
  {
   "cell_type": "code",
   "execution_count": 10,
   "metadata": {},
   "outputs": [
    {
     "data": {
      "text/plain": [
       "New Year    2021-01-01\n",
       "Easter      2021-04-04\n",
       "dtype: object"
      ]
     },
     "execution_count": 10,
     "metadata": {},
     "output_type": "execute_result"
    }
   ],
   "source": [
    "holidays = {\n",
    "    'New Year' : '2021-01-01',\n",
    "    'Easter' : '2021-04-04'\n",
    "}\n",
    "\n",
    "holidaysSeries = pd.Series(holidays)\n",
    "holidaysSeries"
   ]
  }
 ],
 "metadata": {
  "kernelspec": {
   "display_name": "Python 3",
   "language": "python",
   "name": "python3"
  },
  "language_info": {
   "codemirror_mode": {
    "name": "ipython",
    "version": 3
   },
   "file_extension": ".py",
   "mimetype": "text/x-python",
   "name": "python",
   "nbconvert_exporter": "python",
   "pygments_lexer": "ipython3",
   "version": "3.8.5"
  }
 },
 "nbformat": 4,
 "nbformat_minor": 4
}
